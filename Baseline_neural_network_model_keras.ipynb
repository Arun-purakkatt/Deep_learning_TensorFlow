{
  "nbformat": 4,
  "nbformat_minor": 0,
  "metadata": {
    "colab": {
      "name": "Baseline_neural_network_model_keras.ipynb",
      "provenance": [],
      "authorship_tag": "ABX9TyP391YMVE2FYLD/qMfXfdLN",
      "include_colab_link": true
    },
    "kernelspec": {
      "name": "python3",
      "display_name": "Python 3"
    }
  },
  "cells": [
    {
      "cell_type": "markdown",
      "metadata": {
        "id": "view-in-github",
        "colab_type": "text"
      },
      "source": [
        "<a href=\"https://colab.research.google.com/github/Arun-purakkatt/Deep_learning_TensorFlow/blob/master/Baseline_neural_network_model_keras.ipynb\" target=\"_parent\"><img src=\"https://colab.research.google.com/assets/colab-badge.svg\" alt=\"Open In Colab\"/></a>"
      ]
    },
    {
      "cell_type": "code",
      "metadata": {
        "id": "bS1YR7IH3ksN",
        "colab_type": "code",
        "colab": {}
      },
      "source": [
        "import pandas as pd\n",
        "from keras.models import Sequential\n",
        "from keras.layers import Dense\n",
        "from keras.wrappers.scikit_learn import KerasRegressor\n",
        "from sklearn.model_selection import cross_val_score\n",
        "from sklearn.model_selection import KFold\n",
        "from sklearn.preprocessing import StandardScaler\n",
        "from sklearn.pipeline import Pipeline"
      ],
      "execution_count": 3,
      "outputs": []
    },
    {
      "cell_type": "code",
      "metadata": {
        "id": "epZyyTJx35jq",
        "colab_type": "code",
        "colab": {}
      },
      "source": [
        "dataframe=pd.read_csv('/content/housing.csv',delim_whitespace=True,header=None)\n",
        "dataset=dataframe.values"
      ],
      "execution_count": 7,
      "outputs": []
    },
    {
      "cell_type": "code",
      "metadata": {
        "id": "j3VFacIw5iS_",
        "colab_type": "code",
        "colab": {}
      },
      "source": [
        "#splitting data set into x & y values\n",
        "x=dataset[:,0:13]\n",
        "y=dataset[:,13]"
      ],
      "execution_count": 9,
      "outputs": []
    },
    {
      "cell_type": "code",
      "metadata": {
        "id": "Ci2egFNm7ieS",
        "colab_type": "code",
        "colab": {}
      },
      "source": [
        "#define baseline model\n",
        "from keras.models import Sequential\n",
        "from keras.layers import Dense\n",
        "def baseline_model():\n",
        "  model=Sequential()\n",
        "  model.add(Dense(13,input_dim=13,kernel_initializer='normal',activation='relu'))\n",
        "  model.add(Dense(1,kernel_initializer='normal'))\n",
        "  #compile model\n",
        "  model.compile(loss='mean_squared_error',optimizer='adam')\n",
        "  return model\n"
      ],
      "execution_count": 20,
      "outputs": []
    },
    {
      "cell_type": "code",
      "metadata": {
        "id": "J66HXtti7tYP",
        "colab_type": "code",
        "colab": {}
      },
      "source": [
        "# evaluate model\n",
        "from keras.wrappers.scikit_learn import KerasRegressor\n",
        "from sklearn.model_selection import cross_val_score\n",
        "from sklearn.model_selection import KFold\n",
        "\n",
        "estimator = KerasRegressor(build_fn=baseline_model, epochs=100, batch_size=5, verbose=0)\n"
      ],
      "execution_count": 23,
      "outputs": []
    },
    {
      "cell_type": "code",
      "metadata": {
        "id": "5Pm2CQGz7vWg",
        "colab_type": "code",
        "colab": {
          "base_uri": "https://localhost:8080/",
          "height": 34
        },
        "outputId": "a0140a4e-3213-4163-c63b-0bd310ded5ae"
      },
      "source": [
        "estimator.fit(x,y)"
      ],
      "execution_count": 24,
      "outputs": [
        {
          "output_type": "execute_result",
          "data": {
            "text/plain": [
              "<tensorflow.python.keras.callbacks.History at 0x7f500acaa5f8>"
            ]
          },
          "metadata": {
            "tags": []
          },
          "execution_count": 24
        }
      ]
    },
    {
      "cell_type": "code",
      "metadata": {
        "id": "mYmLxLWdEsO1",
        "colab_type": "code",
        "colab": {
          "base_uri": "https://localhost:8080/",
          "height": 1000
        },
        "outputId": "1a315a11-6234-4a92-f2ad-e9c6b28490c5"
      },
      "source": [
        "estimator.predict(x)"
      ],
      "execution_count": 25,
      "outputs": [
        {
          "output_type": "execute_result",
          "data": {
            "text/plain": [
              "array([35.0306   , 24.848253 , 33.992126 , 35.009953 , 30.379927 ,\n",
              "       29.505856 , 22.252323 , 18.23058  , 12.07016  , 18.287537 ,\n",
              "       16.97665  , 21.796446 , 19.01188  , 24.012302 , 22.051025 ,\n",
              "       23.65562  , 23.803125 , 19.399588 , 13.122734 , 21.790152 ,\n",
              "       14.293076 , 20.615501 , 17.694897 , 16.585367 , 18.956005 ,\n",
              "       12.315216 , 18.43277  , 12.700329 , 21.394186 , 21.460855 ,\n",
              "       12.434408 , 20.136366 , 10.08358  , 14.913824 , 12.792704 ,\n",
              "       24.42395  , 21.57819  , 24.229464 , 22.935658 , 34.386894 ,\n",
              "       40.266983 , 25.910448 , 24.44594  , 24.164494 , 22.85439  ,\n",
              "       22.73336  , 20.084322 , 17.52534  , 10.800222 , 18.639923 ,\n",
              "       21.029797 , 24.171862 , 28.111563 , 24.177189 , 18.691803 ,\n",
              "       32.640663 , 27.354836 , 37.38901  , 24.643461 , 23.99175  ,\n",
              "       21.208588 , 19.946829 , 27.684008 , 23.931845 , 24.516956 ,\n",
              "       32.631565 , 23.99117  , 22.845638 , 19.469385 , 22.633322 ,\n",
              "       23.633766 , 20.737413 , 24.703154 , 22.402359 , 24.108627 ,\n",
              "       22.406212 , 20.347748 , 21.816557 , 20.201283 , 22.714989 ,\n",
              "       29.948915 , 27.639124 , 25.85472  , 25.006004 , 23.920374 ,\n",
              "       27.868105 , 21.367535 , 24.96019  , 34.88785  , 32.777237 ,\n",
              "       24.897032 , 26.586205 , 26.535154 , 27.662193 , 25.295668 ,\n",
              "       24.81062  , 22.671627 , 38.785976 , 36.73132  , 32.009563 ,\n",
              "       24.427164 , 26.721704 , 13.356644 , 21.256796 , 22.105947 ,\n",
              "       19.31825  , 17.765163 , 20.516544 , 22.74052  , 19.77131  ,\n",
              "       20.902594 , 24.232605 , 19.631191 , 19.272202 , 23.334435 ,\n",
              "       16.131786 , 22.082695 , 23.421917 , 15.603046 , 20.314404 ,\n",
              "       21.91798  , 21.329382 , 18.999346 , 13.777666 , 19.284624 ,\n",
              "       21.569605 , 13.18136  , 18.270239 , 20.553349 , 17.549898 ,\n",
              "       22.245636 , 22.246643 , 22.357414 , 19.323013 , 15.382389 ,\n",
              "       19.037148 , 17.538574 , 20.892    , 15.643831 , 18.178041 ,\n",
              "       14.657316 , 13.019777 , 14.499544 , 13.79307  , 13.086918 ,\n",
              "       13.348499 , 14.848383 , 12.890284 , 12.884052 , 14.1560955,\n",
              "       20.602764 , 18.334532 , 20.217834 , 15.194832 , 17.532661 ,\n",
              "       13.767288 , 13.820753 , 35.258213 , 28.659664 , 28.379665 ,\n",
              "       31.704597 , 43.66918  , 48.70882  , 45.69451  , 23.079742 ,\n",
              "       15.445625 , 39.341557 , 13.74284  , 16.86134  , 19.091898 ,\n",
              "       15.233942 , 19.483173 , 21.480572 , 27.996483 , 24.549494 ,\n",
              "       32.307426 , 23.606524 , 32.80784  , 32.276733 , 35.99692  ,\n",
              "       32.9163   , 25.561771 , 38.78315  , 36.181602 , 21.878763 ,\n",
              "       22.135674 , 37.48336  , 32.13407  , 33.718273 , 35.0682   ,\n",
              "       29.455692 , 32.14288  , 36.989586 , 30.439482 , 30.40242  ,\n",
              "       43.403656 , 37.344517 , 23.16316  , 30.991137 , 32.1426   ,\n",
              "       31.119469 , 27.467106 , 38.745213 , 42.480312 , 44.65684  ,\n",
              "       22.473646 , 23.032778 , 17.625134 , 20.910316 , 16.455446 ,\n",
              "       20.662136 , 15.649864 , 20.564856 , 23.309654 ,  5.464207 ,\n",
              "       23.833662 , 23.398182 , 25.66744  , 21.505314 , 26.562346 ,\n",
              "       30.231298 , 18.8139   , 28.123522 , 31.443338 , 41.37993  ,\n",
              "       40.93018  , 43.872288 , 32.466743 , 35.08886  , 34.263977 ,\n",
              "       22.006586 , 35.194984 , 44.014523 , 39.559788 , 27.629244 ,\n",
              "       22.438345 , 27.217693 , 36.958923 , 25.378769 , 25.35754  ,\n",
              "       23.409725 , 22.449194 , 21.370262 , 25.64148  , 19.145493 ,\n",
              "       16.134838 , 22.349897 , 21.614239 , 21.652098 , 24.742462 ,\n",
              "       25.282003 , 27.637741 , 27.563171 , 31.003582 , 25.13819  ,\n",
              "       23.000439 , 39.434177 , 45.26452  , 36.70877  , 38.887882 ,\n",
              "       31.69171  , 37.7961   , 42.247425 , 28.925497 , 35.643444 ,\n",
              "       25.70591  , 23.20641  , 36.186653 , 44.15845  , 23.2864   ,\n",
              "       21.389992 , 26.307823 , 26.832672 , 32.722122 , 40.305126 ,\n",
              "       39.427643 , 34.442394 , 37.113174 , 28.12227  , 36.097782 ,\n",
              "       40.79998  , 35.322937 , 42.224174 , 45.003567 , 26.573736 ,\n",
              "       24.698654 , 17.528358 , 26.097328 , 26.145481 , 22.758171 ,\n",
              "       38.09953  , 37.998787 , 34.115257 , 23.877993 , 22.971586 ,\n",
              "       26.011805 , 25.220669 , 18.963957 , 28.017853 , 29.36237  ,\n",
              "       30.788017 , 24.98142  , 24.146149 , 32.481285 , 32.065804 ,\n",
              "       28.283218 , 37.23599  , 33.54294  , 35.68078  , 24.237013 ,\n",
              "       17.178188 , 30.132057 , 23.465244 , 26.716803 , 25.195333 ,\n",
              "       22.645952 , 17.751724 , 19.525951 , 23.885107 , 21.712105 ,\n",
              "       25.668152 , 26.45345  , 24.824251 , 21.788588 , 27.060617 ,\n",
              "       26.499561 , 25.458717 , 20.954096 , 20.161036 , 21.697395 ,\n",
              "       19.850864 , 20.494783 , 21.537136 , 25.527536 , 24.768833 ,\n",
              "       24.323368 , 23.472464 , 22.913483 , 24.478083 , 23.76768  ,\n",
              "       24.314102 , 30.734194 , 22.148212 , 29.094551 , 31.548864 ,\n",
              "       19.764843 , 16.700676 , 25.943983 , 28.148094 , 24.396208 ,\n",
              "       24.637772 , 22.78312  , 21.827143 , 28.487514 , 21.725178 ,\n",
              "       23.128653 , 18.263256 , 23.158628 , 26.255325 , 21.541826 ,\n",
              "       30.950373 , 18.024136 , 25.375158 , 19.004103 , 41.777443 ,\n",
              "       26.802254 , 16.014109 , 14.265659 , 41.924503 , 46.09068  ,\n",
              "       50.621536 , 27.90452  , 28.979753 , 12.807278 , 10.812225 ,\n",
              "       23.182276 , 13.930052 , 16.345535 , 12.836395 , 14.325138 ,\n",
              "       10.771648 , 14.979504 , 15.08979  , 15.124975 , 10.515978 ,\n",
              "       12.495457 , 11.598711 , 10.427942 , 12.819473 , 15.5602665,\n",
              "       18.371622 , 16.30092  , 13.857433 , 19.958584 , 17.982687 ,\n",
              "       18.624414 , 17.89826  , 16.372793 ,  9.426256 , 11.743837 ,\n",
              "       12.32906  , 15.651627 , 15.848543 , 12.93442  ,  7.7678914,\n",
              "        6.044903 , 12.615143 , 16.540306 , 14.460083 , 14.665726 ,\n",
              "        9.289825 , 13.893635 , 10.175114 , 11.726469 ,  5.742182 ,\n",
              "       11.923756 , 12.789785 ,  9.847618 ,  4.3039637, 11.820702 ,\n",
              "       16.215519 , 16.100073 , 14.507622 , 12.794928 , 11.783148 ,\n",
              "       12.212105 , 10.598492 ,  8.85981  , 12.726118 , 13.705355 ,\n",
              "       13.930811 , 14.391039 , 14.074533 , 14.889624 , 14.354479 ,\n",
              "       13.737995 , 13.540287 , 12.591581 , 10.588972 , 14.599136 ,\n",
              "       12.655981 , 16.106714 , 19.56571  , 16.738708 , 13.730043 ,\n",
              "       13.417938 , 16.137981 , 18.184572 , 17.696014 , 15.869383 ,\n",
              "       14.772812 , 16.707396 , 18.183826 , 18.328903 , 14.289017 ,\n",
              "       14.4422455, 14.051163 , 13.009605 , 14.654299 , 20.016855 ,\n",
              "       15.842081 , 20.66332  , 20.712687 , 27.05565  , 20.467571 ,\n",
              "       15.3947315, 14.157215 , 15.523613 , 13.325573 , 17.79586  ,\n",
              "       19.300232 , 21.756565 , 20.654173 , 21.435024 , 15.355059 ,\n",
              "       15.069914 , 18.265507 , 13.376665 , 16.292059 , 19.267    ,\n",
              "       23.199991 , 31.636274 , 34.19463  , 21.726055 , 18.455378 ,\n",
              "       21.89849  , 19.29432  , 21.04651  , 16.946095 , 16.38836  ,\n",
              "       15.233101 , 17.774149 , 18.871342 , 21.932444 , 20.79282  ,\n",
              "       17.1077   , 15.4975395, 20.651701 , 21.771133 , 19.952944 ,\n",
              "       21.044252 , 24.340652 , 24.918913 , 32.60567  , 29.488766 ,\n",
              "       25.658873 ], dtype=float32)"
            ]
          },
          "metadata": {
            "tags": []
          },
          "execution_count": 25
        }
      ]
    },
    {
      "cell_type": "code",
      "metadata": {
        "id": "sg-V4u0GE_8l",
        "colab_type": "code",
        "colab": {
          "base_uri": "https://localhost:8080/",
          "height": 799
        },
        "outputId": "d21d5185-db76-4283-ba74-7f5733eb11ab"
      },
      "source": [
        "y"
      ],
      "execution_count": 26,
      "outputs": [
        {
          "output_type": "execute_result",
          "data": {
            "text/plain": [
              "array([24. , 21.6, 34.7, 33.4, 36.2, 28.7, 22.9, 27.1, 16.5, 18.9, 15. ,\n",
              "       18.9, 21.7, 20.4, 18.2, 19.9, 23.1, 17.5, 20.2, 18.2, 13.6, 19.6,\n",
              "       15.2, 14.5, 15.6, 13.9, 16.6, 14.8, 18.4, 21. , 12.7, 14.5, 13.2,\n",
              "       13.1, 13.5, 18.9, 20. , 21. , 24.7, 30.8, 34.9, 26.6, 25.3, 24.7,\n",
              "       21.2, 19.3, 20. , 16.6, 14.4, 19.4, 19.7, 20.5, 25. , 23.4, 18.9,\n",
              "       35.4, 24.7, 31.6, 23.3, 19.6, 18.7, 16. , 22.2, 25. , 33. , 23.5,\n",
              "       19.4, 22. , 17.4, 20.9, 24.2, 21.7, 22.8, 23.4, 24.1, 21.4, 20. ,\n",
              "       20.8, 21.2, 20.3, 28. , 23.9, 24.8, 22.9, 23.9, 26.6, 22.5, 22.2,\n",
              "       23.6, 28.7, 22.6, 22. , 22.9, 25. , 20.6, 28.4, 21.4, 38.7, 43.8,\n",
              "       33.2, 27.5, 26.5, 18.6, 19.3, 20.1, 19.5, 19.5, 20.4, 19.8, 19.4,\n",
              "       21.7, 22.8, 18.8, 18.7, 18.5, 18.3, 21.2, 19.2, 20.4, 19.3, 22. ,\n",
              "       20.3, 20.5, 17.3, 18.8, 21.4, 15.7, 16.2, 18. , 14.3, 19.2, 19.6,\n",
              "       23. , 18.4, 15.6, 18.1, 17.4, 17.1, 13.3, 17.8, 14. , 14.4, 13.4,\n",
              "       15.6, 11.8, 13.8, 15.6, 14.6, 17.8, 15.4, 21.5, 19.6, 15.3, 19.4,\n",
              "       17. , 15.6, 13.1, 41.3, 24.3, 23.3, 27. , 50. , 50. , 50. , 22.7,\n",
              "       25. , 50. , 23.8, 23.8, 22.3, 17.4, 19.1, 23.1, 23.6, 22.6, 29.4,\n",
              "       23.2, 24.6, 29.9, 37.2, 39.8, 36.2, 37.9, 32.5, 26.4, 29.6, 50. ,\n",
              "       32. , 29.8, 34.9, 37. , 30.5, 36.4, 31.1, 29.1, 50. , 33.3, 30.3,\n",
              "       34.6, 34.9, 32.9, 24.1, 42.3, 48.5, 50. , 22.6, 24.4, 22.5, 24.4,\n",
              "       20. , 21.7, 19.3, 22.4, 28.1, 23.7, 25. , 23.3, 28.7, 21.5, 23. ,\n",
              "       26.7, 21.7, 27.5, 30.1, 44.8, 50. , 37.6, 31.6, 46.7, 31.5, 24.3,\n",
              "       31.7, 41.7, 48.3, 29. , 24. , 25.1, 31.5, 23.7, 23.3, 22. , 20.1,\n",
              "       22.2, 23.7, 17.6, 18.5, 24.3, 20.5, 24.5, 26.2, 24.4, 24.8, 29.6,\n",
              "       42.8, 21.9, 20.9, 44. , 50. , 36. , 30.1, 33.8, 43.1, 48.8, 31. ,\n",
              "       36.5, 22.8, 30.7, 50. , 43.5, 20.7, 21.1, 25.2, 24.4, 35.2, 32.4,\n",
              "       32. , 33.2, 33.1, 29.1, 35.1, 45.4, 35.4, 46. , 50. , 32.2, 22. ,\n",
              "       20.1, 23.2, 22.3, 24.8, 28.5, 37.3, 27.9, 23.9, 21.7, 28.6, 27.1,\n",
              "       20.3, 22.5, 29. , 24.8, 22. , 26.4, 33.1, 36.1, 28.4, 33.4, 28.2,\n",
              "       22.8, 20.3, 16.1, 22.1, 19.4, 21.6, 23.8, 16.2, 17.8, 19.8, 23.1,\n",
              "       21. , 23.8, 23.1, 20.4, 18.5, 25. , 24.6, 23. , 22.2, 19.3, 22.6,\n",
              "       19.8, 17.1, 19.4, 22.2, 20.7, 21.1, 19.5, 18.5, 20.6, 19. , 18.7,\n",
              "       32.7, 16.5, 23.9, 31.2, 17.5, 17.2, 23.1, 24.5, 26.6, 22.9, 24.1,\n",
              "       18.6, 30.1, 18.2, 20.6, 17.8, 21.7, 22.7, 22.6, 25. , 19.9, 20.8,\n",
              "       16.8, 21.9, 27.5, 21.9, 23.1, 50. , 50. , 50. , 50. , 50. , 13.8,\n",
              "       13.8, 15. , 13.9, 13.3, 13.1, 10.2, 10.4, 10.9, 11.3, 12.3,  8.8,\n",
              "        7.2, 10.5,  7.4, 10.2, 11.5, 15.1, 23.2,  9.7, 13.8, 12.7, 13.1,\n",
              "       12.5,  8.5,  5. ,  6.3,  5.6,  7.2, 12.1,  8.3,  8.5,  5. , 11.9,\n",
              "       27.9, 17.2, 27.5, 15. , 17.2, 17.9, 16.3,  7. ,  7.2,  7.5, 10.4,\n",
              "        8.8,  8.4, 16.7, 14.2, 20.8, 13.4, 11.7,  8.3, 10.2, 10.9, 11. ,\n",
              "        9.5, 14.5, 14.1, 16.1, 14.3, 11.7, 13.4,  9.6,  8.7,  8.4, 12.8,\n",
              "       10.5, 17.1, 18.4, 15.4, 10.8, 11.8, 14.9, 12.6, 14.1, 13. , 13.4,\n",
              "       15.2, 16.1, 17.8, 14.9, 14.1, 12.7, 13.5, 14.9, 20. , 16.4, 17.7,\n",
              "       19.5, 20.2, 21.4, 19.9, 19. , 19.1, 19.1, 20.1, 19.9, 19.6, 23.2,\n",
              "       29.8, 13.8, 13.3, 16.7, 12. , 14.6, 21.4, 23. , 23.7, 25. , 21.8,\n",
              "       20.6, 21.2, 19.1, 20.6, 15.2,  7. ,  8.1, 13.6, 20.1, 21.8, 24.5,\n",
              "       23.1, 19.7, 18.3, 21.2, 17.5, 16.8, 22.4, 20.6, 23.9, 22. , 11.9])"
            ]
          },
          "metadata": {
            "tags": []
          },
          "execution_count": 26
        }
      ]
    },
    {
      "cell_type": "code",
      "metadata": {
        "id": "QXeCIkxtKuOh",
        "colab_type": "code",
        "colab": {
          "base_uri": "https://localhost:8080/",
          "height": 34
        },
        "outputId": "469b6a59-2159-4643-f4ab-5926c5e7ea29"
      },
      "source": [
        "# Regression Example With Boston Dataset: Baseline\n",
        "from pandas import read_csv\n",
        "from keras.models import Sequential\n",
        "from keras.layers import Dense\n",
        "from keras.wrappers.scikit_learn import KerasRegressor\n",
        "from sklearn.model_selection import cross_val_score\n",
        "from sklearn.model_selection import KFold\n",
        "# load dataset\n",
        "dataframe = read_csv(\"housing.csv\", delim_whitespace=True, header=None)\n",
        "dataset = dataframe.values\n",
        "# split into input (X) and output (Y) variables\n",
        "X = dataset[:,0:13]\n",
        "Y = dataset[:,13]\n",
        "# define base model\n",
        "def baseline_model():\n",
        "\t# create model\n",
        "\tmodel = Sequential()\n",
        "\tmodel.add(Dense(13, input_dim=13, kernel_initializer='normal', activation='relu'))\n",
        "\tmodel.add(Dense(1, kernel_initializer='normal'))\n",
        "\t# Compile model\n",
        "\tmodel.compile(loss='mean_squared_error', optimizer='adam')\n",
        "\treturn model\n",
        "# evaluate model\n",
        "estimator = KerasRegressor(build_fn=baseline_model, epochs=100, batch_size=5, verbose=0)\n",
        "kfold = KFold(n_splits=10)\n",
        "results = cross_val_score(estimator, X, Y, cv=kfold)\n",
        "print(\"Baseline: %.2f (%.2f) MSE\" % (results.mean(), results.std()))"
      ],
      "execution_count": 27,
      "outputs": [
        {
          "output_type": "stream",
          "text": [
            "Baseline: -32.04 (23.71) MSE\n"
          ],
          "name": "stdout"
        }
      ]
    },
    {
      "cell_type": "code",
      "metadata": {
        "id": "zOZxdSjyNS1O",
        "colab_type": "code",
        "colab": {}
      },
      "source": [
        "#Modeling The Standardized Dataset"
      ],
      "execution_count": null,
      "outputs": []
    },
    {
      "cell_type": "code",
      "metadata": {
        "id": "V2CRypc4NURD",
        "colab_type": "code",
        "colab": {
          "base_uri": "https://localhost:8080/",
          "height": 34
        },
        "outputId": "fb3401cb-0554-4ce1-a72c-0e11ee84513e"
      },
      "source": [
        "\n",
        "\n",
        "\n",
        "# evaluate model with standardized dataset\n",
        "estimators = []\n",
        "estimators.append(('standardize', StandardScaler()))\n",
        "estimators.append(('mlp', KerasRegressor(build_fn=baseline_model, epochs=50, batch_size=5, verbose=0)))\n",
        "pipeline = Pipeline(estimators)\n",
        "kfold = KFold(n_splits=10)\n",
        "results = cross_val_score(pipeline, X, Y, cv=kfold)\n",
        "print(\"Standardized: %.2f (%.2f) MSE\" % (results.mean(), results.std()))"
      ],
      "execution_count": 28,
      "outputs": [
        {
          "output_type": "stream",
          "text": [
            "Standardized: -28.35 (26.84) MSE\n"
          ],
          "name": "stdout"
        }
      ]
    },
    {
      "cell_type": "code",
      "metadata": {
        "id": "q7DbutJJNouu",
        "colab_type": "code",
        "colab": {}
      },
      "source": [
        "# Tune The Neural Network Topology\n",
        "#Evaluate a Deeper Network Topology\n"
      ],
      "execution_count": null,
      "outputs": []
    },
    {
      "cell_type": "code",
      "metadata": {
        "id": "QxSSX6UGPft9",
        "colab_type": "code",
        "colab": {}
      },
      "source": [
        "#13 inputs -> [13 -> 6] -> 1 output\n"
      ],
      "execution_count": null,
      "outputs": []
    },
    {
      "cell_type": "code",
      "metadata": {
        "id": "Kw6sRnAyOKlO",
        "colab_type": "code",
        "colab": {}
      },
      "source": [
        "# define the model\n",
        "def larger_model():\n",
        "\t# create model\n",
        "\tmodel = Sequential()\n",
        "\tmodel.add(Dense(13, input_dim=13, kernel_initializer='normal', activation='relu'))\n",
        "\tmodel.add(Dense(6, kernel_initializer='normal', activation='relu'))\n",
        "\tmodel.add(Dense(1, kernel_initializer='normal'))\n",
        "\t# Compile model\n",
        "\tmodel.compile(loss='mean_squared_error', optimizer='adam')\n",
        "\treturn model"
      ],
      "execution_count": 29,
      "outputs": []
    },
    {
      "cell_type": "code",
      "metadata": {
        "id": "GrEQY-ZtORE_",
        "colab_type": "code",
        "colab": {
          "base_uri": "https://localhost:8080/",
          "height": 34
        },
        "outputId": "acc6c49e-b833-40b7-e352-f46d3d5e4290"
      },
      "source": [
        "estimators = []\n",
        "estimators.append(('standardize', StandardScaler()))\n",
        "estimators.append(('mlp', KerasRegressor(build_fn=larger_model, epochs=50, batch_size=5, verbose=0)))\n",
        "pipeline = Pipeline(estimators)\n",
        "kfold = KFold(n_splits=10)\n",
        "results = cross_val_score(pipeline, X, Y, cv=kfold)\n",
        "print(\"Larger: %.2f (%.2f) MSE\" % (results.mean(), results.std()))"
      ],
      "execution_count": 30,
      "outputs": [
        {
          "output_type": "stream",
          "text": [
            "Larger: -22.75 (25.57) MSE\n"
          ],
          "name": "stdout"
        }
      ]
    },
    {
      "cell_type": "code",
      "metadata": {
        "id": "rkLPm_uDOvkL",
        "colab_type": "code",
        "colab": {
          "base_uri": "https://localhost:8080/",
          "height": 34
        },
        "outputId": "787cd942-a00b-4621-87c9-f800adb73949"
      },
      "source": [
        "#try it out all together\n",
        "# Regression Example With Boston Dataset: Standardized and Larger\n",
        "from pandas import read_csv\n",
        "from keras.models import Sequential\n",
        "from keras.layers import Dense\n",
        "from keras.wrappers.scikit_learn import KerasRegressor\n",
        "from sklearn.model_selection import cross_val_score\n",
        "from sklearn.model_selection import KFold\n",
        "from sklearn.preprocessing import StandardScaler\n",
        "from sklearn.pipeline import Pipeline\n",
        "# load dataset\n",
        "dataframe = read_csv(\"housing.csv\", delim_whitespace=True, header=None)\n",
        "dataset = dataframe.values\n",
        "# split into input (X) and output (Y) variables\n",
        "X = dataset[:,0:13]\n",
        "Y = dataset[:,13]\n",
        "# define the model\n",
        "def larger_model():\n",
        "\t# create model\n",
        "\tmodel = Sequential()\n",
        "\tmodel.add(Dense(13, input_dim=13, kernel_initializer='normal', activation='relu'))\n",
        "\tmodel.add(Dense(6, kernel_initializer='normal', activation='relu'))\n",
        "\tmodel.add(Dense(1, kernel_initializer='normal'))\n",
        "\t# Compile model\n",
        "\tmodel.compile(loss='mean_squared_error', optimizer='adam')\n",
        "\treturn model\n",
        "# evaluate model with standardized dataset\n",
        "estimators = []\n",
        "estimators.append(('standardize', StandardScaler()))\n",
        "estimators.append(('mlp', KerasRegressor(build_fn=larger_model, epochs=50, batch_size=5, verbose=0)))\n",
        "pipeline = Pipeline(estimators)\n",
        "kfold = KFold(n_splits=10)\n",
        "results = cross_val_score(pipeline, X, Y, cv=kfold)\n",
        "print(\"Larger: %.2f (%.2f) MSE\" % (results.mean(), results.std()))"
      ],
      "execution_count": 31,
      "outputs": [
        {
          "output_type": "stream",
          "text": [
            "Larger: -22.89 (24.25) MSE\n"
          ],
          "name": "stdout"
        }
      ]
    },
    {
      "cell_type": "code",
      "metadata": {
        "id": "GnLj5U79O9Tl",
        "colab_type": "code",
        "colab": {}
      },
      "source": [
        "#Evaluate a wider network topology"
      ],
      "execution_count": null,
      "outputs": []
    },
    {
      "cell_type": "code",
      "metadata": {
        "id": "QPzHdwdrPaRX",
        "colab_type": "code",
        "colab": {}
      },
      "source": [
        "#13 inputs -> [20] -> 1 output"
      ],
      "execution_count": null,
      "outputs": []
    },
    {
      "cell_type": "code",
      "metadata": {
        "id": "DjK98YDoPBLD",
        "colab_type": "code",
        "colab": {}
      },
      "source": [
        "...\n",
        "# define wider model\n",
        "def wider_model():\n",
        "\t# create model\n",
        "\tmodel = Sequential()\n",
        "\tmodel.add(Dense(20, input_dim=13, kernel_initializer='normal', activation='relu'))\n",
        "\tmodel.add(Dense(1, kernel_initializer='normal'))\n",
        "\t# Compile model\n",
        "\tmodel.compile(loss='mean_squared_error', optimizer='adam')\n",
        "\treturn model"
      ],
      "execution_count": 32,
      "outputs": []
    },
    {
      "cell_type": "code",
      "metadata": {
        "id": "G72enRKiP0Ik",
        "colab_type": "code",
        "colab": {
          "base_uri": "https://localhost:8080/",
          "height": 34
        },
        "outputId": "c15a23a2-a67c-45c6-d0aa-3a42a7679fb7"
      },
      "source": [
        "estimators = []\n",
        "estimators.append(('standardize', StandardScaler()))\n",
        "estimators.append(('mlp', KerasRegressor(build_fn=wider_model, epochs=100, batch_size=5, verbose=0)))\n",
        "pipeline = Pipeline(estimators)\n",
        "kfold = KFold(n_splits=10)\n",
        "results = cross_val_score(pipeline, X, Y, cv=kfold)\n",
        "print(\"Wider: %.2f (%.2f) MSE\" % (results.mean(), results.std()))"
      ],
      "execution_count": 33,
      "outputs": [
        {
          "output_type": "stream",
          "text": [
            "Wider: -20.94 (22.23) MSE\n"
          ],
          "name": "stdout"
        }
      ]
    },
    {
      "cell_type": "code",
      "metadata": {
        "id": "JuQrCs6IQKL5",
        "colab_type": "code",
        "colab": {
          "base_uri": "https://localhost:8080/",
          "height": 34
        },
        "outputId": "611d6b72-674b-4d96-f9c1-907614ecb898"
      },
      "source": [
        "# Regression Example With Boston Dataset: Standardized and Wider\n",
        "from pandas import read_csv\n",
        "from keras.models import Sequential\n",
        "from keras.layers import Dense\n",
        "from keras.wrappers.scikit_learn import KerasRegressor\n",
        "from sklearn.model_selection import cross_val_score\n",
        "from sklearn.model_selection import KFold\n",
        "from sklearn.preprocessing import StandardScaler\n",
        "from sklearn.pipeline import Pipeline\n",
        "# load dataset\n",
        "dataframe = read_csv(\"housing.csv\", delim_whitespace=True, header=None)\n",
        "dataset = dataframe.values\n",
        "# split into input (X) and output (Y) variables\n",
        "X = dataset[:,0:13]\n",
        "Y = dataset[:,13]\n",
        "# define wider model\n",
        "def wider_model():\n",
        "\t# create model\n",
        "\tmodel = Sequential()\n",
        "\tmodel.add(Dense(20, input_dim=13, kernel_initializer='normal', activation='relu'))\n",
        "\tmodel.add(Dense(1, kernel_initializer='normal'))\n",
        "\t# Compile model\n",
        "\tmodel.compile(loss='mean_squared_error', optimizer='adam')\n",
        "\treturn model\n",
        "# evaluate model with standardized dataset\n",
        "estimators = []\n",
        "estimators.append(('standardize', StandardScaler()))\n",
        "estimators.append(('mlp', KerasRegressor(build_fn=wider_model, epochs=100, batch_size=5, verbose=0)))\n",
        "pipeline = Pipeline(estimators)\n",
        "kfold = KFold(n_splits=10)\n",
        "results = cross_val_score(pipeline, X, Y, cv=kfold)\n",
        "print(\"Wider: %.2f (%.2f) MSE\" % (results.mean(), results.std()))"
      ],
      "execution_count": 34,
      "outputs": [
        {
          "output_type": "stream",
          "text": [
            "Wider: -22.10 (24.00) MSE\n"
          ],
          "name": "stdout"
        }
      ]
    }
  ]
}